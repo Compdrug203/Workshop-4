{
 "cells": [
  {
   "cell_type": "markdown",
   "metadata": {},
   "source": [
    "# Naïve Bayes Classifier \n",
    "is probabilistic supervised machine learning algorithms. It is used to solve classification problem.\n",
    "\n",
    "It is based on Bayes Theorem.\n"
   ]
  },
  {
   "cell_type": "markdown",
   "metadata": {},
   "source": [
    "Here we are going to implement the Naive Bayes Classifier to predict Breast Cancer.\n",
    "\n",
    "Will be using the dataset from sklearn. So lets get started with it."
   ]
  },
  {
   "cell_type": "markdown",
   "metadata": {},
   "source": [
    "# Import Libraries"
   ]
  },
  {
   "cell_type": "code",
   "execution_count": 46,
   "metadata": {
    "_cell_guid": "79c7e3d0-c299-4dcb-8224-4455121ee9b0",
    "_uuid": "d629ff2d2480ee46fbb7e2d37f6b5fab8052498a"
   },
   "outputs": [],
   "source": [
    "import numpy as np\n",
    "import pandas as pd\n",
    "from sklearn.model_selection import train_test_split\n",
    "\n",
    "# Model specific Library\n",
    "from sklearn.naive_bayes import GaussianNB\n",
    "from sklearn.naive_bayes import MultinomialNB\n",
    "from sklearn.naive_bayes import BernoulliNB"
   ]
  },
  {
   "cell_type": "markdown",
   "metadata": {},
   "source": [
    "# Load Dataset"
   ]
  },
  {
   "cell_type": "code",
   "execution_count": 47,
   "metadata": {},
   "outputs": [],
   "source": [
    "from sklearn.datasets import load_breast_cancer\n",
    "breast_cancer = load_breast_cancer()"
   ]
  },
  {
   "cell_type": "code",
   "execution_count": null,
   "metadata": {},
   "outputs": [],
   "source": [
    "breast_cancer"
   ]
  },
  {
   "cell_type": "markdown",
   "metadata": {},
   "source": [
    "So we see that we have loaded the breast cancer dataset.. but this does not looks like a dataset... yes, this is complete detail along with the dataset.\n",
    "\n",
    "Actually this detail is in dictionary format, we can get the keys from this dictionary using `key`."
   ]
  },
  {
   "cell_type": "code",
   "execution_count": null,
   "metadata": {},
   "outputs": [],
   "source": [
    "breast_cancer.keys()"
   ]
  },
  {
   "cell_type": "markdown",
   "metadata": {},
   "source": [
    "So we see that we do have `data`,`feature_names`, `target`, `target_names` and others as well, but will be focusing on these. If interested please do and read the other details."
   ]
  },
  {
   "cell_type": "code",
   "execution_count": null,
   "metadata": {},
   "outputs": [],
   "source": [
    "breast_cancer.data\n",
    "# This is our actual data."
   ]
  },
  {
   "cell_type": "code",
   "execution_count": null,
   "metadata": {},
   "outputs": [],
   "source": [
    "# These are the feature names for our dataset (data)\n",
    "breast_cancer.feature_names"
   ]
  },
  {
   "cell_type": "code",
   "execution_count": null,
   "metadata": {},
   "outputs": [],
   "source": [
    "# These are our target data\n",
    "breast_cancer.target"
   ]
  },
  {
   "cell_type": "code",
   "execution_count": null,
   "metadata": {},
   "outputs": [],
   "source": [
    "breast_cancer.target_names"
   ]
  },
  {
   "cell_type": "markdown",
   "metadata": {},
   "source": [
    "This represent the string format of our target / class.\n",
    "\n",
    "So in target if value is 0 it means it is `malignant` ie the patient is suffering with malignant tumor.\n",
    "\n",
    "Where as `benign` is represented by 1, and the patient is not having any cancer."
   ]
  },
  {
   "cell_type": "markdown",
   "metadata": {},
   "source": [
    "# Create Dataframe \n",
    "Create dataframe out of the keys which are intreset to us."
   ]
  },
  {
   "cell_type": "code",
   "execution_count": 54,
   "metadata": {},
   "outputs": [],
   "source": [
    "df = pd.DataFrame(\n",
    "    np.c_[breast_cancer.data, breast_cancer.target], \n",
    "    columns = [list(breast_cancer.feature_names)+ ['target']]\n",
    "                 )"
   ]
  },
  {
   "cell_type": "code",
   "execution_count": null,
   "metadata": {},
   "outputs": [],
   "source": [
    "df.head()"
   ]
  },
  {
   "cell_type": "code",
   "execution_count": 56,
   "metadata": {},
   "outputs": [],
   "source": [
    "# what is the shape of the data\n",
    "# put your code here"
   ]
  },
  {
   "cell_type": "code",
   "execution_count": 57,
   "metadata": {},
   "outputs": [],
   "source": [
    "# how to describe the data\n",
    "# note this is a very informative function that is only available in pandas\n",
    "# put your code here"
   ]
  },
  {
   "cell_type": "code",
   "execution_count": null,
   "metadata": {},
   "outputs": [],
   "source": [
    "# how do you exam the non-null values\n",
    "# check whether there are any null values\n",
    "\n",
    "\n",
    "print(df.isnull().any(axis=1).sum())"
   ]
  },
  {
   "cell_type": "code",
   "execution_count": null,
   "metadata": {},
   "outputs": [],
   "source": [
    "# another way to check for null values\n",
    "df.info()"
   ]
  },
  {
   "cell_type": "markdown",
   "metadata": {},
   "source": [
    "# Split the data into X and y"
   ]
  },
  {
   "cell_type": "code",
   "execution_count": 60,
   "metadata": {},
   "outputs": [],
   "source": [
    "X = df.iloc[:, 0:-1]\n",
    "y = df.iloc[:,-1]\n",
    "\n",
    "#X = df.iloc[:, 0:-1]\n",
    "#y = df.iloc[:,-1]"
   ]
  },
  {
   "cell_type": "code",
   "execution_count": null,
   "metadata": {},
   "outputs": [],
   "source": [
    "X.shape, y.shape"
   ]
  },
  {
   "cell_type": "code",
   "execution_count": 62,
   "metadata": {},
   "outputs": [],
   "source": [
    "X_train, X_val, y_train, y_val = train_test_split(X, y, test_size = 0.2, random_state = 999)\n",
    "# remember that the random state is important for reproducibility"
   ]
  },
  {
   "cell_type": "code",
   "execution_count": null,
   "metadata": {},
   "outputs": [],
   "source": [
    "X_train.shape, y_train.shape, X_val.shape, y_val.shape"
   ]
  },
  {
   "cell_type": "markdown",
   "metadata": {},
   "source": [
    "# Train Naive Bayes Classifier Model"
   ]
  },
  {
   "cell_type": "markdown",
   "metadata": {},
   "source": [
    "## Gaussian Naive Bayes"
   ]
  },
  {
   "cell_type": "code",
   "execution_count": 64,
   "metadata": {},
   "outputs": [],
   "source": [
    "clf = GaussianNB()"
   ]
  },
  {
   "cell_type": "code",
   "execution_count": null,
   "metadata": {},
   "outputs": [],
   "source": [
    "clf.fit(X_train, y_train)"
   ]
  },
  {
   "cell_type": "code",
   "execution_count": null,
   "metadata": {},
   "outputs": [],
   "source": [
    "clf.score(X_val, y_val)"
   ]
  },
  {
   "cell_type": "markdown",
   "metadata": {},
   "source": [
    "wow... congrats!! We have achieved 92% at the first go."
   ]
  },
  {
   "cell_type": "markdown",
   "metadata": {},
   "source": [
    "moving onto another type of Naive Bayes "
   ]
  },
  {
   "cell_type": "markdown",
   "metadata": {},
   "source": [
    "## Multinomial Naive Bayes"
   ]
  },
  {
   "cell_type": "code",
   "execution_count": 67,
   "metadata": {},
   "outputs": [],
   "source": [
    "clf_mn = MultinomialNB()"
   ]
  },
  {
   "cell_type": "code",
   "execution_count": null,
   "metadata": {},
   "outputs": [],
   "source": [
    "clf_mn.fit(X_train, y_train)"
   ]
  },
  {
   "cell_type": "code",
   "execution_count": null,
   "metadata": {},
   "outputs": [],
   "source": [
    "clf_mn.score(X_val, y_val)"
   ]
  },
  {
   "cell_type": "markdown",
   "metadata": {},
   "source": [
    "Score goes down when compared to Gaussian NB.\n",
    "\n",
    "Lets see the 3rd type as well."
   ]
  },
  {
   "cell_type": "markdown",
   "metadata": {},
   "source": [
    "## Bernoulli Naive Bayes"
   ]
  },
  {
   "cell_type": "code",
   "execution_count": null,
   "metadata": {},
   "outputs": [],
   "source": [
    "clf_b = BernoulliNB()\n",
    "clf_b.fit(X_train, y_train)\n",
    "clf_b.score(X_val, y_val)"
   ]
  },
  {
   "cell_type": "markdown",
   "metadata": {},
   "source": [
    "Ohh... this gets score much worst."
   ]
  },
  {
   "cell_type": "markdown",
   "metadata": {},
   "source": [
    "But dont worry... as we were having Numerical Data, so Guassian NB works best for this.. where as when we have any text dataset then using Multinomial or Bernoulli NB works best."
   ]
  },
  {
   "cell_type": "markdown",
   "metadata": {},
   "source": [
    "# Predict"
   ]
  },
  {
   "cell_type": "markdown",
   "metadata": {},
   "source": [
    "To predict this, lets create our own data to test this.\n",
    "But as we are not Medical person, so we will jsut do a copy paste any one or two records from our train dataset, and do some change in it."
   ]
  },
  {
   "cell_type": "markdown",
   "metadata": {},
   "source": [
    "The `display.max_columns` option controls the number of columns to be printed. It receives an int or None (to print all the columns):"
   ]
  },
  {
   "cell_type": "code",
   "execution_count": 71,
   "metadata": {},
   "outputs": [],
   "source": [
    "pd.set_option('display.max_columns', None)"
   ]
  },
  {
   "cell_type": "code",
   "execution_count": null,
   "metadata": {},
   "outputs": [],
   "source": [
    "# print(df.iloc[99])\n",
    "df[99:100]"
   ]
  },
  {
   "cell_type": "code",
   "execution_count": null,
   "metadata": {},
   "outputs": [],
   "source": [
    "patient1 = [14.42,19.77,94.48,642.5,0.09752,0.1141,0.09388,0.05839,0.1879,0.0639,0.2895,1.851,2.376,26.85,0.008005,0.02895,0.03321,0.01424,0.01462,0.004452,16.33,30.86,109.5,826.4,0.1431,0.3026,0.3194,0.1565,0.2718,0.09353]\n",
    "patient1"
   ]
  },
  {
   "cell_type": "markdown",
   "metadata": {},
   "source": [
    "Need to convert the patient1 dataset into 2-Dimension."
   ]
  },
  {
   "cell_type": "code",
   "execution_count": null,
   "metadata": {},
   "outputs": [],
   "source": [
    "patient1 = np.array([patient1])\n",
    "patient1"
   ]
  },
  {
   "cell_type": "code",
   "execution_count": null,
   "metadata": {},
   "outputs": [],
   "source": [
    "clf.predict(patient1)"
   ]
  },
  {
   "cell_type": "code",
   "execution_count": null,
   "metadata": {},
   "outputs": [],
   "source": [
    "pred = clf.predict(patient1)\n",
    "\n",
    "if pred[0] == 0:\n",
    "    print(\"Patient is suffering from Cancer (Malignant Tumor)\")\n",
    "else:\n",
    "    print(\"Patient has no Cancer (Benign)\")"
   ]
  },
  {
   "cell_type": "markdown",
   "metadata": {},
   "source": [
    "# Probability\n",
    "Lets see the probability of the prediction."
   ]
  },
  {
   "cell_type": "code",
   "execution_count": null,
   "metadata": {},
   "outputs": [],
   "source": [
    "pred_prob = clf.predict_proba(patient1)\n",
    "pred_prob"
   ]
  },
  {
   "cell_type": "markdown",
   "metadata": {},
   "source": [
    "# Visualize it"
   ]
  },
  {
   "cell_type": "code",
   "execution_count": 78,
   "metadata": {},
   "outputs": [],
   "source": [
    "import matplotlib.pyplot as plt\n",
    "import seaborn as sns"
   ]
  },
  {
   "cell_type": "code",
   "execution_count": null,
   "metadata": {},
   "outputs": [],
   "source": [
    "# get the top 10 features based on the model\n",
    "feature_importance = clf.theta_[1]\n",
    "print(feature_importance)\n"
   ]
  },
  {
   "cell_type": "code",
   "execution_count": null,
   "metadata": {},
   "outputs": [],
   "source": [
    "# feature_importance plot\n",
    "from matplotlib import pyplot as plt\n",
    "import seaborn as sns\n",
    "plt.figure(figsize=(10, 6))\n",
    "# show the top 5 features\n",
    "zip_data = zip(breast_cancer.feature_names, feature_importance)\n",
    "zip_data = sorted(zip_data, key = lambda x: x[1], reverse = True)\n",
    "feature_names, feature_importance = zip(*zip_data)\n",
    "sns.barplot(x = list(feature_importance)[:5], y = list(feature_names)[:5])\n",
    "plt.xlabel('Feature Importance')\n",
    "plt.ylabel('Feature Names')\n",
    "plt.title('Top 5 Features')\n"
   ]
  },
  {
   "cell_type": "code",
   "execution_count": null,
   "metadata": {},
   "outputs": [],
   "source": [
    "\n",
    "plt.bar(breast_cancer.target_names, pred_prob[0])\n",
    "plt.title('Prediction Probability for Malignant Vs Benign')\n",
    "plt.xlabel('Probability')\n",
    "plt.xticks(pred_prob[0])\n",
    "# plt.ylabel('y') \n",
    "plt.show()\n",
    "\n"
   ]
  },
  {
   "cell_type": "code",
   "execution_count": null,
   "metadata": {},
   "outputs": [],
   "source": [
    "sns.barplot(y = pred_prob[0], x = breast_cancer.target_names)\n"
   ]
  },
  {
   "cell_type": "markdown",
   "metadata": {},
   "source": [
    "Annotate the values"
   ]
  },
  {
   "cell_type": "code",
   "execution_count": null,
   "metadata": {},
   "outputs": [],
   "source": [
    "line = plt.bar(breast_cancer.target_names,pred_prob[0])\n",
    "plt.xlabel('Probability')\n",
    "plt.ylabel(\"Value\")\n",
    "\n",
    "for i in range(2):\n",
    "    plt.annotate(str(round(pred_prob[0][i],2)), xy=(breast_cancer.target_names[i],pred_prob[0][i]))\n",
    "\n",
    "plt.show()"
   ]
  },
  {
   "cell_type": "code",
   "execution_count": 44,
   "metadata": {},
   "outputs": [],
   "source": [
    "# permutate the worst area feature\n",
    "# bin 10 worst area values from the max value to the min value\n",
    "# predict the probability of the patient having cancer\n",
    "\n",
    "worst_area = X_train['worst area'].values\n",
    "# 10 bins\n",
    "max_worst_area = max(worst_area)\n",
    "min_worst_area = min(worst_area)\n",
    "bins = np.linspace(min_worst_area, max_worst_area, 10)\n"
   ]
  },
  {
   "cell_type": "code",
   "execution_count": null,
   "metadata": {},
   "outputs": [],
   "source": [
    "# use the feature to permutate the patient 1 data\n",
    "import numpy as np\n",
    "permutated_patient1 = patient1.copy()\n",
    "# worse area index\n",
    "\n",
    "worst_area_index =list( X.columns.get_loc('worst area')).index(True)\n",
    "# get the index number of worst area\n",
    "\n",
    "# permutate patient1 \n",
    "prob_list = []\n",
    "class_list = []\n",
    "for i in range(10):\n",
    "    permutated_patient1[0][worst_area_index] = bins[i]\n",
    "    prob_list.append(clf.predict_proba(permutated_patient1)[0][1])\n",
    "    class_list.append(clf.predict(permutated_patient1)[0])\n",
    "# plot the permutated patient1 based on the worst area\n",
    "plt.plot(bins, prob_list)\n",
    "plt.scatter(bins, prob_list, )\n",
    "plt.xlabel('Worst Area')\n",
    "plt.ylabel('Probability of having Cancer')\n",
    "plt.title('Permutation of Worst Area')\n",
    "plt.show()"
   ]
  },
  {
   "cell_type": "markdown",
   "id": "5f8fd574",
   "metadata": {},
   "source": [
    "\n",
    "# Summary and Q&A\n",
    "\n",
    "In this workshop, we learned how to implement and evaluate different types of Naive Bayes classifiers using scikit-learn. \n",
    "We explored the **GaussianNB**, **MultinomialNB**, and **BernoulliNB** models and applied them to the breast cancer dataset.\n",
    "\n",
    "Feel free to ask questions or experiment further with the code!\n"
   ]
  }
 ],
 "metadata": {
  "kernelspec": {
   "display_name": "Python 3",
   "language": "python",
   "name": "python3"
  },
  "language_info": {
   "codemirror_mode": {
    "name": "ipython",
    "version": 3
   },
   "file_extension": ".py",
   "mimetype": "text/x-python",
   "name": "python",
   "nbconvert_exporter": "python",
   "pygments_lexer": "ipython3",
   "version": "3.9.19"
  }
 },
 "nbformat": 4,
 "nbformat_minor": 4
}
