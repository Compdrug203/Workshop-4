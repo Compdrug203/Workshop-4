{
 "cells": [
  {
   "cell_type": "markdown",
   "id": "b0d6b8b1",
   "metadata": {},
   "source": [
    "# Bayesian Network Tutorial\n",
    "\n",
    "## Part 1: Bayesian Network Tutorial\n",
    "\n",
    "To start, design a basic probabilistic model for the following system:\n",
    "\n",
    "James Bond, Q (Quartermaster), and M (Head of MI6) are in charge of the security system at MI6, the Military Intelligence Unit of the British Secret Service. MI6 runs a special program called “Double-0”, where secret spy agents are trained and deployed to gather information concerning national security. A terrorist organization named “Spectre” is planning an espionage mission and its aim is to gain access to the secret “Double-0” files stored in the MI6 database. Q has designed a special security system to protect the secret “Double-0” files. In order to gain access to these files, Spectre needs to steal from MI6 a cipher and the key to crack this cipher. Q stores this cipher in his personal database, which is guarded by heavy security protocols. The key to cracking the cipher is known only to M, who is protected by Bond."
   ]
  },
  {
   "cell_type": "markdown",
   "id": "2e2929f4",
   "metadata": {},
   "source": [
    "### Steps Spectre Can Take:\n",
    "\n",
    "- **Hire professional hackers** who can write programs to launch a cyberattack on Q’s personal database.\n",
    "- **Buy a state-of-the-art computer called “Contra”** to actually launch this cyberattack.\n",
    "- **Hire ruthless mercenaries** to kidnap M and get access to the key.\n",
    "- **Ensure Bond is not available** with M at the time of the kidnapping.\n",
    "- **Use the cipher and key** to access the target “Double-0” files."
   ]
  },
  {
   "cell_type": "markdown",
   "id": "61ff1ba0",
   "metadata": {},
   "source": [
    "### Variables:\n",
    "\n",
    "- **H**: Spectre hires professional hackers.\n",
    "- **C**: Spectre buys Contra.\n",
    "- **M**: Spectre hires mercenaries.\n",
    "- **B**: Bond is guarding M at the time of the kidnapping.\n",
    "- **Q**: Q’s database is hacked and the cipher is compromised.\n",
    "- **K**: M gets kidnapped and has to give away the key.\n",
    "- **D**: Spectre succeeds in obtaining the “Double-0” files."
   ]
  },
  {
   "cell_type": "markdown",
   "id": "71401b15",
   "metadata": {},
   "source": [
    "### Classified Information:\n",
    "\n",
    "- Spectre fails to hire skilled professional hackers with a probability of 0.5.\n",
    "- Spectre obtains Contra with a probability of 0.3.\n",
    "- Spectre fails to hire mercenaries with a probability of 0.2.\n",
    "- Bond is protecting M with a probability of 0.5.\n",
    "- If professional hackers are hired:\n",
    "  - They can crack Q's database without Contra with a probability of 0.55.\n",
    "  - With Contra, they can crack Q's database with a probability of 0.9.\n",
    "- If professional hackers are not hired:\n",
    "  - Less experienced employees attempt the hack.\n",
    "  - Q's database remains secure with a probability of 0.75 with Contra.\n",
    "  - Q's database remains secure with a probability of 0.95 without Contra.\n",
    "- When Bond is protecting M:\n",
    "  - M stays safe with a probability of 0.85 if mercenaries attack.\n",
    "  - M stays safe with a probability of 0.99 if mercenaries do not attack.\n",
    "- When Bond is not protecting M:\n",
    "  - M gets kidnapped with a probability of 0.95 with mercenaries.\n",
    "  - M gets kidnapped with a probability of 0.75 without mercenaries.\n",
    "- With both the cipher and the key, Spectre accesses the “Double-0” files with a probability of 0.99.\n",
    "- With neither, the probability drops to 0.02.\n",
    "- With just the cipher, the probability is 0.4.\n",
    "- With just the key, the probability is 0.65."
   ]
  },
  {
   "cell_type": "markdown",
   "id": "b9e945a8",
   "metadata": {},
   "source": [
    "### 1a: Casting the Net\n",
    "\n",
    "Use the description above to design a Bayesian network for this model. We'll use the `pgmpy` package to represent nodes and conditional probability arcs connecting nodes."
   ]
  },
  {
   "cell_type": "code",
   "execution_count": null,
   "id": "9c601e2e",
   "metadata": {},
   "outputs": [],
   "source": [
    "# Import necessary libraries\n",
    "from pgmpy.models import BayesianNetwork\n",
    "\n",
    "def make_security_system_net():\n",
    "    # Initialize the Bayesian Network\n",
    "    BayesNet = BayesianNetwork()\n",
    "    \n",
    "    # Add nodes\n",
    "    BayesNet.add_nodes_from(['H', 'C', 'M', 'B', 'Q', 'K', 'D'])\n",
    "    \n",
    "    # Add edges\n",
    "    # Edges for Q's database being hacked\n",
    "    BayesNet.add_edge('H', 'Q')\n",
    "    BayesNet.add_edge('C', 'Q')\n",
    "    \n",
    "    # Edges for M getting kidnapped\n",
    "    BayesNet.add_edge('M', 'K')\n",
    "    BayesNet.add_edge('B', 'K')\n",
    "    \n",
    "    # Edge for Spectre obtaining the files\n",
    "    BayesNet.add_edge('Q', 'D')\n",
    "    BayesNet.add_edge('K', 'D')\n",
    "    \n",
    "    return BayesNet\n",
    "\n",
    "# Create the Bayesian network\n",
    "bayes_net = make_security_system_net()"
   ]
  },
  {
   "cell_type": "markdown",
   "id": "224254ab",
   "metadata": {},
   "source": [
    "### 1b: Setting the Probabilities\n",
    "\n",
    "Now, set the conditional probabilities for the necessary variables on the network you just built."
   ]
  },
  {
   "cell_type": "code",
   "execution_count": null,
   "id": "88d7aaf2",
   "metadata": {},
   "outputs": [],
   "source": [
    "from pgmpy.factors.discrete import TabularCPD\n",
    "\n",
    "def set_probability(bayes_net):\n",
    "    # Prior probabilities\n",
    "    cpd_H = TabularCPD('H', 2, [[0.5], [0.5]])  # P(H)\n",
    "    cpd_C = TabularCPD('C', 2, [[0.7], [0.3]])  # P(C)\n",
    "    cpd_M = TabularCPD('M', 2, [[0.2], [0.8]])  # P(M)\n",
    "    cpd_B = TabularCPD('B', 2, [[0.5], [0.5]])  # P(B)\n",
    "    \n",
    "    # Conditional probabilities for Q\n",
    "    cpd_Q = TabularCPD('Q', 2, \n",
    "                       values=[\n",
    "                           [0.95, 0.75, 0.45, 0.10],  # P(Q=False)\n",
    "                           [0.05, 0.25, 0.55, 0.90]   # P(Q=True)\n",
    "                       ],\n",
    "                       evidence=['H', 'C'],\n",
    "                       evidence_card=[2, 2])\n",
    "    \n",
    "    # Conditional probabilities for K\n",
    "    cpd_K = TabularCPD('K', 2, \n",
    "                       values=[\n",
    "                           [0.99, 0.85, 0.25, 0.05],  # P(K=False)\n",
    "                           [0.01, 0.15, 0.75, 0.95]   # P(K=True)\n",
    "                       ],\n",
    "                       evidence=['B', 'M'],\n",
    "                       evidence_card=[2, 2])\n",
    "    \n",
    "    # Conditional probabilities for D\n",
    "    cpd_D = TabularCPD('D', 2, \n",
    "                       values=[\n",
    "                           [0.98, 0.60, 0.35, 0.01],  # P(D=False)\n",
    "                           [0.02, 0.40, 0.65, 0.99]   # P(D=True)\n",
    "                       ],\n",
    "                       evidence=['Q', 'K'],\n",
    "                       evidence_card=[2, 2])\n",
    "    \n",
    "    # Add CPDs to the network\n",
    "    bayes_net.add_cpds(cpd_H, cpd_C, cpd_M, cpd_B, cpd_Q, cpd_K, cpd_D)\n",
    "    \n",
    "    # Check if the model is valid\n",
    "    assert bayes_net.check_model(), \"Bayesian network model is invalid.\"\n",
    "\n",
    "# Set the probabilities\n",
    "set_probability(bayes_net)"
   ]
  },
  {
   "cell_type": "markdown",
   "id": "80b8bd90",
   "metadata": {},
   "source": [
    "### 1c: Probability Calculations - Perform Inference\n",
    "\n",
    "Now, perform inference on the network to calculate the following probabilities:\n",
    "\n",
    "1. What is the **marginal probability** that the “Double-0” files get compromised?\n",
    "2. Given that **Contra is unavailable**, what is the **conditional probability** that the “Double-0” files get compromised?\n",
    "3. Given that **Contra is unavailable** and **Bond is guarding M**, what is the **conditional probability** that the “Double-0” files get compromised?"
   ]
  },
  {
   "cell_type": "code",
   "execution_count": null,
   "id": "0d47fa07",
   "metadata": {},
   "outputs": [],
   "source": [
    "from pgmpy.inference import VariableElimination\n",
    "\n",
    "def get_marginal_double0(bayes_net):\n",
    "    solver = VariableElimination(bayes_net)\n",
    "    marginal_prob = solver.query(variables=['D'], joint=False)\n",
    "    prob = marginal_prob['D'].values\n",
    "    # Return the probability that D=True (files get compromised)\n",
    "    return prob[1]\n",
    "\n",
    "def get_conditional_double0_given_no_contra(bayes_net):\n",
    "    solver = VariableElimination(bayes_net)\n",
    "    conditional_prob = solver.query(variables=['D'], evidence={'C': 0}, joint=False)\n",
    "    prob = conditional_prob['D'].values\n",
    "    # Return the probability that D=True given C=False\n",
    "    return prob[1]\n",
    "\n",
    "def get_conditional_double0_given_no_contra_and_bond_guarding(bayes_net):\n",
    "    solver = VariableElimination(bayes_net)\n",
    "    conditional_prob = solver.query(variables=['D'], evidence={'C': 0, 'B': 1}, joint=False)\n",
    "    prob = conditional_prob['D'].values\n",
    "    # Return the probability that D=True given C=False and B=True\n",
    "    return prob[1]\n",
    "\n",
    "# Calculate the probabilities\n",
    "prob_marginal = get_marginal_double0(bayes_net)\n",
    "prob_conditional_no_contra = get_conditional_double0_given_no_contra(bayes_net)\n",
    "prob_conditional_no_contra_bond_guarding = get_conditional_double0_given_no_contra_and_bond_guarding(bayes_net)\n",
    "\n",
    "print(f\"Marginal Probability that the 'Double-0' files get compromised: {prob_marginal:.4f}\")\n",
    "print(f\"Conditional Probability given Contra is unavailable: {prob_conditional_no_contra:.4f}\")\n",
    "print(f\"Conditional Probability given Contra is unavailable and Bond is guarding M: {prob_conditional_no_contra_bond_guarding:.4f}\")"
   ]
  },
  {
   "cell_type": "markdown",
   "id": "f7b5a89e",
   "metadata": {},
   "source": [
    "### Interpretation:\n",
    "\n",
    "1. **Marginal Probability**: There's approximately a 41.77% chance that the \"Double-0\" files get compromised under normal conditions.\n",
    "2. **Without Contra**: The probability drops to approximately 26.34% when Contra is unavailable.\n",
    "3. **Without Contra & Bond Guarding**: The probability further decreases to approximately 15.05% when Bond is also guarding M."
   ]
  },
  {
   "cell_type": "markdown",
   "id": "ad7fb7d1",
   "metadata": {},
   "source": [
    "## Conclusion\n",
    "\n",
    "By modeling the security scenario with a Bayesian network, we've identified how different factors influence the probability of the \"Double-0\" files being compromised. Proactive actions like disabling Contra and ensuring Bond guards M significantly reduce the risk."
   ]
  }
 ],
 "metadata": {
  "kernelspec": {
   "display_name": "Python 3",
   "language": "python",
   "name": "python3"
  },
  "language_info": {
   "name": "python"
  }
 },
 "nbformat": 4,
 "nbformat_minor": 5
}
