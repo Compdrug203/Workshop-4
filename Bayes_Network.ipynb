{
 "cells": [
  {
   "cell_type": "markdown",
   "id": "b0d6b8b1",
   "metadata": {},
   "source": [
    "# Bayesian Network Tutorial\n",
    "\n",
    "## Part 1: Bayesian Network Tutorial\n",
    "\n"
   ]
  },
  {
   "cell_type": "markdown",
   "id": "2e2929f4",
   "metadata": {},
   "source": [
    "### Steps Spectre Can Take:\n",
    "\n",
    "- **Hire professional hackers** who can write programs to launch a cyberattack on Q’s personal database.\n",
    "- **Buy a state-of-the-art computer called “Contra”** to actually launch this cyberattack.\n",
    "- **Hire ruthless mercenaries** to kidnap M and get access to the key.\n",
    "- **Ensure Bond is not available** with M at the time of the kidnapping.\n",
    "- **Use the cipher and key** to access the target “Double-0” files."
   ]
  },
  {
   "cell_type": "markdown",
   "id": "61ff1ba0",
   "metadata": {},
   "source": [
    "### Variables:\n",
    "\n",
    "- **H**: Spectre hires professional hackers.\n",
    "- **C**: Spectre buys Contra.\n",
    "- **M**: Spectre hires mercenaries.\n",
    "- **B**: Bond is guarding M at the time of the kidnapping.\n",
    "- **Q**: Q’s database is hacked and the cipher is compromised.\n",
    "- **K**: M gets kidnapped and has to give away the key.\n",
    "- **D**: Spectre succeeds in obtaining the “Double-0” files."
   ]
  },
  {
   "cell_type": "markdown",
   "id": "71401b15",
   "metadata": {},
   "source": [
    "### Classified Information:\n",
    "\n",
    "- Spectre fails to hire skilled professional hackers with a probability of 0.5.\n",
    "- Spectre obtains Contra with a probability of 0.3.\n",
    "- Spectre fails to hire mercenaries with a probability of 0.2.\n",
    "- Bond is protecting M with a probability of 0.5.\n",
    "- If professional hackers are hired:\n",
    "  - They can crack Q's database without Contra with a probability of 0.55.\n",
    "  - With Contra, they can crack Q's database with a probability of 0.9.\n",
    "- If professional hackers are not hired:\n",
    "  - Less experienced employees attempt the hack.\n",
    "  - Q's database remains secure with a probability of 0.75 with Contra.\n",
    "  - Q's database remains secure with a probability of 0.95 without Contra.\n",
    "- When Bond is protecting M:\n",
    "  - M stays safe with a probability of 0.85 if mercenaries attack.\n",
    "  - M stays safe with a probability of 0.99 if mercenaries do not attack.\n",
    "- When Bond is not protecting M:\n",
    "  - M gets kidnapped with a probability of 0.95 with mercenaries.\n",
    "  - M gets kidnapped with a probability of 0.75 without mercenaries.\n",
    "- With both the cipher and the key, Spectre accesses the “Double-0” files with a probability of 0.99.\n",
    "- With neither, the probability drops to 0.02.\n",
    "- With just the cipher, the probability is 0.4.\n",
    "- With just the key, the probability is 0.65."
   ]
  },
  {
   "cell_type": "markdown",
   "id": "b9e945a8",
   "metadata": {},
   "source": [
    "### 1a: Casting the Net\n",
    "\n",
    "Use the description above to design a Bayesian network for this model. We'll use the `pgmpy` package to represent nodes and conditional probability arcs connecting nodes."
   ]
  },
  {
   "cell_type": "code",
   "execution_count": 1,
   "id": "9c601e2e",
   "metadata": {},
   "outputs": [],
   "source": [
    "# Import necessary libraries\n",
    "from pgmpy.models import BayesianNetwork\n",
    "from pgmpy.factors.discrete import TabularCPD\n",
    "\n",
    "def protain_network():\n",
    "    \"\"\"L: ligand\n",
    "    G: gene activation\n",
    "    M: mutation\n",
    "    F: correct folding\n",
    "    H: hydrolysis\n",
    "    S: stability\n",
    "    There are therefore several probability tables. Below are their defi nitions, where we assign boolean values to each of thevariables, and the tables are listed below the defi nitions\n",
    "    p(L = 1): probability of a ligand being present\n",
    "    p(M = 1): probability of a mutation occurring\n",
    "    p(H = 1): probability of a protein being hydrolyzed\n",
    "    p(G = 1|L): probability of a gene being activated given the presence of a ligand\n",
    "    p(F = 1|M, G): probability of the protein correctly folding given the presence of a mutation and the gene being activated\n",
    "    p(S = 1|F, H): probability of the protein being stable given the protein correctly folding and being hydrolyzed\"\"\"\n",
    "    # Defining the network structure\n",
    "    model = BayesianNetwork()\n",
    "    model.add_nodes_from(['L', 'G', 'M', 'F', 'H', 'S'])\n",
    "    model.add_edges_from([('L', 'G'), ('M', 'F'), ('G', 'F'), ('F', 'S'), ('H', 'S')])\n",
    "\n",
    "    return model\n",
    "\n",
    "    \n"
   ]
  },
  {
   "cell_type": "markdown",
   "id": "224254ab",
   "metadata": {},
   "source": [
    "### 1b: Setting the Probabilities\n",
    "\n",
    "Now, set the conditional probabilities for the necessary variables on the network you just built."
   ]
  },
  {
   "cell_type": "code",
   "execution_count": 3,
   "id": "88d7aaf2",
   "metadata": {},
   "outputs": [
    {
     "name": "stdout",
     "output_type": "stream",
     "text": [
      "+------+-----+\n",
      "| L(0) | 0.3 |\n",
      "+------+-----+\n",
      "| L(1) | 0.7 |\n",
      "+------+-----+\n",
      "+------+-----+\n",
      "| M(0) | 0.7 |\n",
      "+------+-----+\n",
      "| M(1) | 0.3 |\n",
      "+------+-----+\n",
      "+------+-----+\n",
      "| H(0) | 0.6 |\n",
      "+------+-----+\n",
      "| H(1) | 0.4 |\n",
      "+------+-----+\n",
      "+------+------+------+\n",
      "| L    | L(0) | L(1) |\n",
      "+------+------+------+\n",
      "| G(0) | 0.8  | 0.1  |\n",
      "+------+------+------+\n",
      "| G(1) | 0.2  | 0.9  |\n",
      "+------+------+------+\n",
      "+------+------+------+------+------+\n",
      "| M    | M(0) | M(0) | M(1) | M(1) |\n",
      "+------+------+------+------+------+\n",
      "| G    | G(0) | G(1) | G(0) | G(1) |\n",
      "+------+------+------+------+------+\n",
      "| F(0) | 0.8  | 0.1  | 0.9  | 0.7  |\n",
      "+------+------+------+------+------+\n",
      "| F(1) | 0.2  | 0.9  | 0.1  | 0.3  |\n",
      "+------+------+------+------+------+\n",
      "+------+------+------+------+------+\n",
      "| H    | H(0) | H(0) | H(1) | H(1) |\n",
      "+------+------+------+------+------+\n",
      "| F    | F(0) | F(1) | F(0) | F(1) |\n",
      "+------+------+------+------+------+\n",
      "| S(0) | 0.7  | 0.05 | 0.9  | 0.8  |\n",
      "+------+------+------+------+------+\n",
      "| S(1) | 0.3  | 0.95 | 0.1  | 0.2  |\n",
      "+------+------+------+------+------+\n"
     ]
    }
   ],
   "source": [
    "from pgmpy.factors.discrete import TabularCPD\n",
    "\n",
    "def protain_network_cpd(model):\n",
    "    # Defining the CPDs:\n",
    "    # L 1: 0.7, L 0: 0.3\n",
    "    cpd_L = TabularCPD(variable='L', variable_card=2, values=[[0.3], [0.7]])\n",
    "    # M 1: 0.3, M 0: 0.7\n",
    "    cpd_M = TabularCPD(variable='M', variable_card=2, values=[[0.7], [0.3]])\n",
    "    # H 1: 0.4 H 0: 0.6\n",
    "    cpd_H = TabularCPD(variable='H', variable_card=2, values=[[0.6], [0.4]])\n",
    "    # G  1: 0.9, 0: 0.1 | L ==1\n",
    "    # G  1: 0.2, 0: 0.8 | L ==0\n",
    "    cpd_G = TabularCPD(variable='G', variable_card=2, values=[[0.8, 0.1], [0.2, 0.9]], evidence=['L'], evidence_card=[2])\n",
    "    # F  1: 0.3, 0: 0.7 | M ==1, G ==1\n",
    "    # F  1: 0.1, 0: 0.9 | M ==1, G ==0\n",
    "    # F  1: 0.9, 0: 0.1 | M ==0, G ==1\n",
    "    # F  1: 0.2, 0: 0.8 | M ==0, G ==0\n",
    "    cpd_F = TabularCPD(variable='F', variable_card=2, values = [[0.8, 0.1, 0.9, 0.7], [0.2, 0.9, 0.1, 0.3]], evidence=['M', 'G'], evidence_card=[2, 2])\n",
    "    # S  1: 0.2, 0: 0.8 | H ==1, F ==1\n",
    "    # S  1: 0.1, 0: 0.9 | H ==1, F ==0\n",
    "    # S  1: 0.95, 0: 0.05 | H ==0, F ==1\n",
    "    # S  1: 0.3, 0: 0.7 | H ==0, F ==0\n",
    "    cpd_S = TabularCPD(variable='S', variable_card=2, values = [[0.7, 0.05, 0.9, 0.8], [0.3, 0.95, 0.1, 0.2]], evidence=['H', 'F'], evidence_card=[2, 2])\n",
    "\n",
    "    # Associating the CPDs with the network structure.\n",
    "    model.add_cpds(cpd_L, cpd_M, cpd_H, cpd_G, cpd_F, cpd_S)\n",
    "    # check_model checks for the network structure and CPDs and verifies that the CPDs are correctly\n",
    "    # defined and sum to 1.\n",
    "    model.check_model()\n",
    "\n",
    "    return model\n",
    "\n",
    "def main():\n",
    "    model = protain_network()\n",
    "    model = protain_network_cpd(model)\n",
    "    print(model.get_cpds('L'))\n",
    "    print(model.get_cpds('M'))\n",
    "    print(model.get_cpds('H'))\n",
    "    print(model.get_cpds('G'))\n",
    "    print(model.get_cpds('F'))\n",
    "    print(model.get_cpds('S'))\n",
    "\n",
    "if __name__ == '__main__':\n",
    "    main()"
   ]
  },
  {
   "cell_type": "code",
   "execution_count": null,
   "id": "d0924ec4",
   "metadata": {},
   "outputs": [],
   "source": []
  },
  {
   "cell_type": "markdown",
   "id": "80b8bd90",
   "metadata": {},
   "source": [
    "### 1c: Probability Calculations - Perform Inference\n",
    "\n",
    "Now, perform inference on the network to calculate the following probabilities:\n",
    "\n",
    "1. What is the **marginal probability** that the “Double-0” files get compromised?\n",
    "2. Given that **Contra is unavailable**, what is the **conditional probability** that the “Double-0” files get compromised?\n",
    "3. Given that **Contra is unavailable** and **Bond is guarding M**, what is the **conditional probability** that the “Double-0” files get compromised?"
   ]
  },
  {
   "cell_type": "code",
   "execution_count": 4,
   "id": "0d47fa07",
   "metadata": {},
   "outputs": [
    {
     "ename": "XGBoostError",
     "evalue": "\nXGBoost Library (libxgboost.dylib) could not be loaded.\nLikely causes:\n  * OpenMP runtime is not installed\n    - vcomp140.dll or libgomp-1.dll for Windows\n    - libomp.dylib for Mac OSX\n    - libgomp.so for Linux and other UNIX-like OSes\n    Mac OSX users: Run `brew install libomp` to install OpenMP runtime.\n\n  * You are running 32-bit Python on a 64-bit OS\n\nError message(s): [\"dlopen(/Users/ssun2/anaconda3/envs/deepheme/lib/python3.8/site-packages/xgboost/lib/libxgboost.dylib, 0x0006): Library not loaded: @rpath/libomp.dylib\\n  Referenced from: <B9202094-7D52-318C-99CF-7034B0E9F28D> /Users/ssun2/anaconda3/envs/deepheme/lib/python3.8/site-packages/xgboost/lib/libxgboost.dylib\\n  Reason: tried: '/opt/homebrew/opt/libomp/lib/libomp.dylib' (no such file), '/System/Volumes/Preboot/Cryptexes/OS/opt/homebrew/opt/libomp/lib/libomp.dylib' (no such file), '/opt/homebrew/opt/libomp/lib/libomp.dylib' (no such file), '/System/Volumes/Preboot/Cryptexes/OS/opt/homebrew/opt/libomp/lib/libomp.dylib' (no such file), '/Users/ssun2/anaconda3/envs/deepheme/lib/python3.8/lib-dynload/../../libomp.dylib' (no such file), '/Users/ssun2/anaconda3/envs/deepheme/bin/../lib/libomp.dylib' (no such file), '/System/Volumes/Preboot/Cryptexes/OS@rpath/libomp.dylib' (no such file), '/opt/homebrew/opt/libomp/lib/libomp.dylib' (no such file), '/System/Volumes/Preboot/Cryptexes/OS/opt/homebrew/opt/libomp/lib/libomp.dylib' (no such file), '/opt/homebrew/opt/libomp/lib/libomp.dylib' (no such file), '/System/Volumes/Preboot/Cryptexes/OS/opt/homebrew/opt/libomp/lib/libomp.dylib' (no such file), '/Users/ssun2/anaconda3/envs/deepheme/lib/python3.8/lib-dynload/../../libomp.dylib' (no such file), '/Users/ssun2/anaconda3/envs/deepheme/bin/../lib/libomp.dylib' (no such file)\"]\n",
     "output_type": "error",
     "traceback": [
      "\u001b[0;31m---------------------------------------------------------------------------\u001b[0m",
      "\u001b[0;31mXGBoostError\u001b[0m                              Traceback (most recent call last)",
      "Cell \u001b[0;32mIn[4], line 1\u001b[0m\n\u001b[0;32m----> 1\u001b[0m \u001b[38;5;28;01mfrom\u001b[39;00m \u001b[38;5;21;01mpgmpy\u001b[39;00m\u001b[38;5;21;01m.\u001b[39;00m\u001b[38;5;21;01minference\u001b[39;00m \u001b[38;5;28;01mimport\u001b[39;00m VariableElimination\n\u001b[1;32m      3\u001b[0m network \u001b[38;5;241m=\u001b[39m protain_network()\n\u001b[1;32m      4\u001b[0m network \u001b[38;5;241m=\u001b[39m protain_network_cpd(network)\n",
      "File \u001b[0;32m~/anaconda3/envs/deepheme/lib/python3.8/site-packages/pgmpy/inference/__init__.py:2\u001b[0m\n\u001b[1;32m      1\u001b[0m \u001b[38;5;28;01mfrom\u001b[39;00m \u001b[38;5;21;01m.\u001b[39;00m\u001b[38;5;21;01mbase\u001b[39;00m \u001b[38;5;28;01mimport\u001b[39;00m Inference\n\u001b[0;32m----> 2\u001b[0m \u001b[38;5;28;01mfrom\u001b[39;00m \u001b[38;5;21;01m.\u001b[39;00m\u001b[38;5;21;01mCausalInference\u001b[39;00m \u001b[38;5;28;01mimport\u001b[39;00m CausalInference\n\u001b[1;32m      3\u001b[0m \u001b[38;5;28;01mfrom\u001b[39;00m \u001b[38;5;21;01m.\u001b[39;00m\u001b[38;5;21;01mExactInference\u001b[39;00m \u001b[38;5;28;01mimport\u001b[39;00m BeliefPropagation\n\u001b[1;32m      4\u001b[0m \u001b[38;5;28;01mfrom\u001b[39;00m \u001b[38;5;21;01m.\u001b[39;00m\u001b[38;5;21;01mExactInference\u001b[39;00m \u001b[38;5;28;01mimport\u001b[39;00m VariableElimination\n",
      "File \u001b[0;32m~/anaconda3/envs/deepheme/lib/python3.8/site-packages/pgmpy/inference/CausalInference.py:9\u001b[0m\n\u001b[1;32m      6\u001b[0m \u001b[38;5;28;01mfrom\u001b[39;00m \u001b[38;5;21;01mtqdm\u001b[39;00m\u001b[38;5;21;01m.\u001b[39;00m\u001b[38;5;21;01mauto\u001b[39;00m \u001b[38;5;28;01mimport\u001b[39;00m tqdm\n\u001b[1;32m      8\u001b[0m \u001b[38;5;28;01mfrom\u001b[39;00m \u001b[38;5;21;01mpgmpy\u001b[39;00m \u001b[38;5;28;01mimport\u001b[39;00m config\n\u001b[0;32m----> 9\u001b[0m \u001b[38;5;28;01mfrom\u001b[39;00m \u001b[38;5;21;01mpgmpy\u001b[39;00m\u001b[38;5;21;01m.\u001b[39;00m\u001b[38;5;21;01mestimators\u001b[39;00m\u001b[38;5;21;01m.\u001b[39;00m\u001b[38;5;21;01mLinearModel\u001b[39;00m \u001b[38;5;28;01mimport\u001b[39;00m LinearEstimator\n\u001b[1;32m     10\u001b[0m \u001b[38;5;28;01mfrom\u001b[39;00m \u001b[38;5;21;01mpgmpy\u001b[39;00m\u001b[38;5;21;01m.\u001b[39;00m\u001b[38;5;21;01mfactors\u001b[39;00m\u001b[38;5;21;01m.\u001b[39;00m\u001b[38;5;21;01mdiscrete\u001b[39;00m \u001b[38;5;28;01mimport\u001b[39;00m DiscreteFactor\n\u001b[1;32m     11\u001b[0m \u001b[38;5;28;01mfrom\u001b[39;00m \u001b[38;5;21;01mpgmpy\u001b[39;00m\u001b[38;5;21;01m.\u001b[39;00m\u001b[38;5;21;01mmodels\u001b[39;00m \u001b[38;5;28;01mimport\u001b[39;00m BayesianNetwork\n",
      "File \u001b[0;32m~/anaconda3/envs/deepheme/lib/python3.8/site-packages/pgmpy/estimators/__init__.py:17\u001b[0m\n\u001b[1;32m     15\u001b[0m \u001b[38;5;28;01mfrom\u001b[39;00m \u001b[38;5;21;01mpgmpy\u001b[39;00m\u001b[38;5;21;01m.\u001b[39;00m\u001b[38;5;21;01mestimators\u001b[39;00m\u001b[38;5;21;01m.\u001b[39;00m\u001b[38;5;21;01mSEMEstimator\u001b[39;00m \u001b[38;5;28;01mimport\u001b[39;00m SEMEstimator, IVEstimator\n\u001b[1;32m     16\u001b[0m \u001b[38;5;28;01mfrom\u001b[39;00m \u001b[38;5;21;01mpgmpy\u001b[39;00m\u001b[38;5;21;01m.\u001b[39;00m\u001b[38;5;21;01mestimators\u001b[39;00m\u001b[38;5;21;01m.\u001b[39;00m\u001b[38;5;21;01mScoreCache\u001b[39;00m \u001b[38;5;28;01mimport\u001b[39;00m ScoreCache\n\u001b[0;32m---> 17\u001b[0m \u001b[38;5;28;01mfrom\u001b[39;00m \u001b[38;5;21;01mpgmpy\u001b[39;00m\u001b[38;5;21;01m.\u001b[39;00m\u001b[38;5;21;01mestimators\u001b[39;00m\u001b[38;5;21;01m.\u001b[39;00m\u001b[38;5;21;01mMmhcEstimator\u001b[39;00m \u001b[38;5;28;01mimport\u001b[39;00m MmhcEstimator\n\u001b[1;32m     18\u001b[0m \u001b[38;5;28;01mfrom\u001b[39;00m \u001b[38;5;21;01mpgmpy\u001b[39;00m\u001b[38;5;21;01m.\u001b[39;00m\u001b[38;5;21;01mestimators\u001b[39;00m\u001b[38;5;21;01m.\u001b[39;00m\u001b[38;5;21;01mEM\u001b[39;00m \u001b[38;5;28;01mimport\u001b[39;00m ExpectationMaximization\n\u001b[1;32m     19\u001b[0m \u001b[38;5;28;01mfrom\u001b[39;00m \u001b[38;5;21;01mpgmpy\u001b[39;00m\u001b[38;5;21;01m.\u001b[39;00m\u001b[38;5;21;01mestimators\u001b[39;00m\u001b[38;5;21;01m.\u001b[39;00m\u001b[38;5;21;01mPC\u001b[39;00m \u001b[38;5;28;01mimport\u001b[39;00m PC\n",
      "File \u001b[0;32m~/anaconda3/envs/deepheme/lib/python3.8/site-packages/pgmpy/estimators/MmhcEstimator.py:4\u001b[0m\n\u001b[1;32m      2\u001b[0m \u001b[38;5;28;01mfrom\u001b[39;00m \u001b[38;5;21;01mpgmpy\u001b[39;00m\u001b[38;5;21;01m.\u001b[39;00m\u001b[38;5;21;01mbase\u001b[39;00m \u001b[38;5;28;01mimport\u001b[39;00m UndirectedGraph\n\u001b[1;32m      3\u001b[0m \u001b[38;5;28;01mfrom\u001b[39;00m \u001b[38;5;21;01mpgmpy\u001b[39;00m\u001b[38;5;21;01m.\u001b[39;00m\u001b[38;5;21;01mestimators\u001b[39;00m \u001b[38;5;28;01mimport\u001b[39;00m BDeuScore, HillClimbSearch, StructureEstimator\n\u001b[0;32m----> 4\u001b[0m \u001b[38;5;28;01mfrom\u001b[39;00m \u001b[38;5;21;01mpgmpy\u001b[39;00m\u001b[38;5;21;01m.\u001b[39;00m\u001b[38;5;21;01mestimators\u001b[39;00m\u001b[38;5;21;01m.\u001b[39;00m\u001b[38;5;21;01mCITests\u001b[39;00m \u001b[38;5;28;01mimport\u001b[39;00m chi_square\n\u001b[1;32m      5\u001b[0m \u001b[38;5;28;01mfrom\u001b[39;00m \u001b[38;5;21;01mpgmpy\u001b[39;00m\u001b[38;5;21;01m.\u001b[39;00m\u001b[38;5;21;01mindependencies\u001b[39;00m \u001b[38;5;28;01mimport\u001b[39;00m IndependenceAssertion, Independencies\n\u001b[1;32m      6\u001b[0m \u001b[38;5;28;01mfrom\u001b[39;00m \u001b[38;5;21;01mpgmpy\u001b[39;00m\u001b[38;5;21;01m.\u001b[39;00m\u001b[38;5;21;01mmodels\u001b[39;00m \u001b[38;5;28;01mimport\u001b[39;00m BayesianNetwork\n",
      "File \u001b[0;32m~/anaconda3/envs/deepheme/lib/python3.8/site-packages/pgmpy/estimators/CITests.py:6\u001b[0m\n\u001b[1;32m      4\u001b[0m \u001b[38;5;28;01mfrom\u001b[39;00m \u001b[38;5;21;01msklearn\u001b[39;00m\u001b[38;5;21;01m.\u001b[39;00m\u001b[38;5;21;01mcross_decomposition\u001b[39;00m \u001b[38;5;28;01mimport\u001b[39;00m CCA\n\u001b[1;32m      5\u001b[0m \u001b[38;5;28;01mfrom\u001b[39;00m \u001b[38;5;21;01mstatsmodels\u001b[39;00m\u001b[38;5;21;01m.\u001b[39;00m\u001b[38;5;21;01mmultivariate\u001b[39;00m\u001b[38;5;21;01m.\u001b[39;00m\u001b[38;5;21;01mmanova\u001b[39;00m \u001b[38;5;28;01mimport\u001b[39;00m MANOVA\n\u001b[0;32m----> 6\u001b[0m \u001b[38;5;28;01mfrom\u001b[39;00m \u001b[38;5;21;01mxgboost\u001b[39;00m \u001b[38;5;28;01mimport\u001b[39;00m XGBClassifier, XGBRegressor\n\u001b[1;32m      8\u001b[0m \u001b[38;5;28;01mfrom\u001b[39;00m \u001b[38;5;21;01mpgmpy\u001b[39;00m\u001b[38;5;21;01m.\u001b[39;00m\u001b[38;5;21;01mglobal_vars\u001b[39;00m \u001b[38;5;28;01mimport\u001b[39;00m logger\n\u001b[1;32m      9\u001b[0m \u001b[38;5;28;01mfrom\u001b[39;00m \u001b[38;5;21;01mpgmpy\u001b[39;00m\u001b[38;5;21;01m.\u001b[39;00m\u001b[38;5;21;01mindependencies\u001b[39;00m \u001b[38;5;28;01mimport\u001b[39;00m IndependenceAssertion\n",
      "File \u001b[0;32m~/anaconda3/envs/deepheme/lib/python3.8/site-packages/xgboost/__init__.py:6\u001b[0m\n\u001b[1;32m      1\u001b[0m \u001b[38;5;124;03m\"\"\"XGBoost: eXtreme Gradient Boosting library.\u001b[39;00m\n\u001b[1;32m      2\u001b[0m \n\u001b[1;32m      3\u001b[0m \u001b[38;5;124;03mContributors: https://github.com/dmlc/xgboost/blob/master/CONTRIBUTORS.md\u001b[39;00m\n\u001b[1;32m      4\u001b[0m \u001b[38;5;124;03m\"\"\"\u001b[39;00m\n\u001b[0;32m----> 6\u001b[0m \u001b[38;5;28;01mfrom\u001b[39;00m \u001b[38;5;21;01m.\u001b[39;00m \u001b[38;5;28;01mimport\u001b[39;00m tracker  \u001b[38;5;66;03m# noqa\u001b[39;00m\n\u001b[1;32m      7\u001b[0m \u001b[38;5;28;01mfrom\u001b[39;00m \u001b[38;5;21;01m.\u001b[39;00m \u001b[38;5;28;01mimport\u001b[39;00m collective, dask\n\u001b[1;32m      8\u001b[0m \u001b[38;5;28;01mfrom\u001b[39;00m \u001b[38;5;21;01m.\u001b[39;00m\u001b[38;5;21;01mcore\u001b[39;00m \u001b[38;5;28;01mimport\u001b[39;00m (\n\u001b[1;32m      9\u001b[0m     Booster,\n\u001b[1;32m     10\u001b[0m     DataIter,\n\u001b[0;32m   (...)\u001b[0m\n\u001b[1;32m     15\u001b[0m     build_info,\n\u001b[1;32m     16\u001b[0m )\n",
      "File \u001b[0;32m~/anaconda3/envs/deepheme/lib/python3.8/site-packages/xgboost/tracker.py:9\u001b[0m\n\u001b[1;32m      6\u001b[0m \u001b[38;5;28;01mfrom\u001b[39;00m \u001b[38;5;21;01menum\u001b[39;00m \u001b[38;5;28;01mimport\u001b[39;00m IntEnum, unique\n\u001b[1;32m      7\u001b[0m \u001b[38;5;28;01mfrom\u001b[39;00m \u001b[38;5;21;01mtyping\u001b[39;00m \u001b[38;5;28;01mimport\u001b[39;00m Dict, Optional, Union\n\u001b[0;32m----> 9\u001b[0m \u001b[38;5;28;01mfrom\u001b[39;00m \u001b[38;5;21;01m.\u001b[39;00m\u001b[38;5;21;01mcore\u001b[39;00m \u001b[38;5;28;01mimport\u001b[39;00m _LIB, _check_call, make_jcargs\n\u001b[1;32m     12\u001b[0m \u001b[38;5;28;01mdef\u001b[39;00m \u001b[38;5;21mget_family\u001b[39m(addr: \u001b[38;5;28mstr\u001b[39m) \u001b[38;5;241m-\u001b[39m\u001b[38;5;241m>\u001b[39m \u001b[38;5;28mint\u001b[39m:\n\u001b[1;32m     13\u001b[0m \u001b[38;5;250m    \u001b[39m\u001b[38;5;124;03m\"\"\"Get network family from address.\"\"\"\u001b[39;00m\n",
      "File \u001b[0;32m~/anaconda3/envs/deepheme/lib/python3.8/site-packages/xgboost/core.py:269\u001b[0m\n\u001b[1;32m    265\u001b[0m     \u001b[38;5;28;01mreturn\u001b[39;00m lib\n\u001b[1;32m    268\u001b[0m \u001b[38;5;66;03m# load the XGBoost library globally\u001b[39;00m\n\u001b[0;32m--> 269\u001b[0m _LIB \u001b[38;5;241m=\u001b[39m \u001b[43m_load_lib\u001b[49m\u001b[43m(\u001b[49m\u001b[43m)\u001b[49m\n\u001b[1;32m    272\u001b[0m \u001b[38;5;28;01mdef\u001b[39;00m \u001b[38;5;21m_check_call\u001b[39m(ret: \u001b[38;5;28mint\u001b[39m) \u001b[38;5;241m-\u001b[39m\u001b[38;5;241m>\u001b[39m \u001b[38;5;28;01mNone\u001b[39;00m:\n\u001b[1;32m    273\u001b[0m \u001b[38;5;250m    \u001b[39m\u001b[38;5;124;03m\"\"\"Check the return value of C API call\u001b[39;00m\n\u001b[1;32m    274\u001b[0m \n\u001b[1;32m    275\u001b[0m \u001b[38;5;124;03m    This function will raise exception when error occurs.\u001b[39;00m\n\u001b[0;32m   (...)\u001b[0m\n\u001b[1;32m    281\u001b[0m \u001b[38;5;124;03m        return value from API calls\u001b[39;00m\n\u001b[1;32m    282\u001b[0m \u001b[38;5;124;03m    \"\"\"\u001b[39;00m\n",
      "File \u001b[0;32m~/anaconda3/envs/deepheme/lib/python3.8/site-packages/xgboost/core.py:222\u001b[0m, in \u001b[0;36m_load_lib\u001b[0;34m()\u001b[0m\n\u001b[1;32m    220\u001b[0m     \u001b[38;5;28;01mif\u001b[39;00m \u001b[38;5;129;01mnot\u001b[39;00m lib_success:\n\u001b[1;32m    221\u001b[0m         libname \u001b[38;5;241m=\u001b[39m os\u001b[38;5;241m.\u001b[39mpath\u001b[38;5;241m.\u001b[39mbasename(lib_paths[\u001b[38;5;241m0\u001b[39m])\n\u001b[0;32m--> 222\u001b[0m         \u001b[38;5;28;01mraise\u001b[39;00m XGBoostError(\n\u001b[1;32m    223\u001b[0m             \u001b[38;5;124mf\u001b[39m\u001b[38;5;124m\"\"\"\u001b[39m\n\u001b[1;32m    224\u001b[0m \u001b[38;5;124mXGBoost Library (\u001b[39m\u001b[38;5;132;01m{\u001b[39;00mlibname\u001b[38;5;132;01m}\u001b[39;00m\u001b[38;5;124m) could not be loaded.\u001b[39m\n\u001b[1;32m    225\u001b[0m \u001b[38;5;124mLikely causes:\u001b[39m\n\u001b[1;32m    226\u001b[0m \u001b[38;5;124m  * OpenMP runtime is not installed\u001b[39m\n\u001b[1;32m    227\u001b[0m \u001b[38;5;124m    - vcomp140.dll or libgomp-1.dll for Windows\u001b[39m\n\u001b[1;32m    228\u001b[0m \u001b[38;5;124m    - libomp.dylib for Mac OSX\u001b[39m\n\u001b[1;32m    229\u001b[0m \u001b[38;5;124m    - libgomp.so for Linux and other UNIX-like OSes\u001b[39m\n\u001b[1;32m    230\u001b[0m \u001b[38;5;124m    Mac OSX users: Run `brew install libomp` to install OpenMP runtime.\u001b[39m\n\u001b[1;32m    231\u001b[0m \n\u001b[1;32m    232\u001b[0m \u001b[38;5;124m  * You are running 32-bit Python on a 64-bit OS\u001b[39m\n\u001b[1;32m    233\u001b[0m \n\u001b[1;32m    234\u001b[0m \u001b[38;5;124mError message(s): \u001b[39m\u001b[38;5;132;01m{\u001b[39;00mos_error_list\u001b[38;5;132;01m}\u001b[39;00m\n\u001b[1;32m    235\u001b[0m \u001b[38;5;124m\"\"\"\u001b[39m\n\u001b[1;32m    236\u001b[0m         )\n\u001b[1;32m    237\u001b[0m     _register_log_callback(lib)\n\u001b[1;32m    239\u001b[0m     \u001b[38;5;28;01mdef\u001b[39;00m \u001b[38;5;21mparse\u001b[39m(ver: \u001b[38;5;28mstr\u001b[39m) \u001b[38;5;241m-\u001b[39m\u001b[38;5;241m>\u001b[39m Tuple[\u001b[38;5;28mint\u001b[39m, \u001b[38;5;28mint\u001b[39m, \u001b[38;5;28mint\u001b[39m]:\n",
      "\u001b[0;31mXGBoostError\u001b[0m: \nXGBoost Library (libxgboost.dylib) could not be loaded.\nLikely causes:\n  * OpenMP runtime is not installed\n    - vcomp140.dll or libgomp-1.dll for Windows\n    - libomp.dylib for Mac OSX\n    - libgomp.so for Linux and other UNIX-like OSes\n    Mac OSX users: Run `brew install libomp` to install OpenMP runtime.\n\n  * You are running 32-bit Python on a 64-bit OS\n\nError message(s): [\"dlopen(/Users/ssun2/anaconda3/envs/deepheme/lib/python3.8/site-packages/xgboost/lib/libxgboost.dylib, 0x0006): Library not loaded: @rpath/libomp.dylib\\n  Referenced from: <B9202094-7D52-318C-99CF-7034B0E9F28D> /Users/ssun2/anaconda3/envs/deepheme/lib/python3.8/site-packages/xgboost/lib/libxgboost.dylib\\n  Reason: tried: '/opt/homebrew/opt/libomp/lib/libomp.dylib' (no such file), '/System/Volumes/Preboot/Cryptexes/OS/opt/homebrew/opt/libomp/lib/libomp.dylib' (no such file), '/opt/homebrew/opt/libomp/lib/libomp.dylib' (no such file), '/System/Volumes/Preboot/Cryptexes/OS/opt/homebrew/opt/libomp/lib/libomp.dylib' (no such file), '/Users/ssun2/anaconda3/envs/deepheme/lib/python3.8/lib-dynload/../../libomp.dylib' (no such file), '/Users/ssun2/anaconda3/envs/deepheme/bin/../lib/libomp.dylib' (no such file), '/System/Volumes/Preboot/Cryptexes/OS@rpath/libomp.dylib' (no such file), '/opt/homebrew/opt/libomp/lib/libomp.dylib' (no such file), '/System/Volumes/Preboot/Cryptexes/OS/opt/homebrew/opt/libomp/lib/libomp.dylib' (no such file), '/opt/homebrew/opt/libomp/lib/libomp.dylib' (no such file), '/System/Volumes/Preboot/Cryptexes/OS/opt/homebrew/opt/libomp/lib/libomp.dylib' (no such file), '/Users/ssun2/anaconda3/envs/deepheme/lib/python3.8/lib-dynload/../../libomp.dylib' (no such file), '/Users/ssun2/anaconda3/envs/deepheme/bin/../lib/libomp.dylib' (no such file)\"]\n"
     ]
    }
   ],
   "source": [
    "from pgmpy.inference import VariableElimination\n",
    "\n",
    "network = protain_network()\n",
    "network = protain_network_cpd(network)\n",
    "\n",
    "# Let’s say that we know that there was a ligand present, the gene was activated, a mutation did not occur, the protein\n",
    "# folded correctly, and a hydrolysis occurred. Given those, what is the probability that the protein was stable? Round yo##ur\n",
    "# answer to 3 decimal places. (Note: This question vaguely hints at a part of a solution in future questions.)\n",
    "\n",
    "# Doing exact inference using Variable Elimination\n",
    "inference = VariableElimination(network)    \n",
    "stable_prob = inference.query(variables=['S'], evidence={'L': 1, 'G': 1, 'M': 0, 'F': 1, 'H': 1}, joint=False)\n",
    "print(stable_prob['S'].values[1])\n"
   ]
  },
  {
   "cell_type": "code",
   "execution_count": null,
   "id": "454ec85e",
   "metadata": {},
   "outputs": [],
   "source": [
    "# In a scenario where we know a mutation did not occur , and a ligand was present, what is the probability that a gene\n",
    "#was activated? Round your answers to 3 decimal places\n",
    "\n",
    "gene_prob = inference.query(variables=['G'], evidence={'L': 1, 'M': 0}, joint=False)\n",
    "print(gene_prob['G'].values[1])"
   ]
  },
  {
   "cell_type": "code",
   "execution_count": null,
   "id": "256d0cff",
   "metadata": {},
   "outputs": [],
   "source": [
    "# In a scenario where we know a mutation did not occur, a ligand was present, and the protein was folded incorrectly,\n",
    "#what is the probability that a gene was activated? Round your answer to 6 decimal places.\n",
    "\n",
    "gene_prob = inference.query(variables=['G'], evidence={'L': 1, 'M': 0, 'F': 0}, joint=False)\n",
    "print(gene_prob['G'].values[1])"
   ]
  }
 ],
 "metadata": {
  "kernelspec": {
   "display_name": "Python 3",
   "language": "python",
   "name": "python3"
  },
  "language_info": {
   "codemirror_mode": {
    "name": "ipython",
    "version": 3
   },
   "file_extension": ".py",
   "mimetype": "text/x-python",
   "name": "python",
   "nbconvert_exporter": "python",
   "pygments_lexer": "ipython3",
   "version": "3.8.13"
  }
 },
 "nbformat": 4,
 "nbformat_minor": 5
}
