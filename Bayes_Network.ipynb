{
 "cells": [
  {
   "cell_type": "markdown",
   "id": "b0d6b8b1",
   "metadata": {},
   "source": [
    "# Bayesian Network Tutorial\n",
    "\n",
    "## Part 1: Bayesian Network Tutorial\n",
    "\n"
   ]
  },
  {
   "cell_type": "markdown",
   "id": "b9e945a8",
   "metadata": {},
   "source": [
    "### 1a: Casting the Net\n",
    "\n",
    "Use the description in ReadMe to design a Bayesian network for this model. We'll use the `pgmpy` package to represent nodes and conditional probability arcs connecting nodes."
   ]
  },
  {
   "cell_type": "code",
   "execution_count": null,
   "id": "9c601e2e",
   "metadata": {},
   "outputs": [],
   "source": [
    "# Import necessary libraries\n",
    "from pgmpy.models import BayesianNetwork\n",
    "from pgmpy.factors.discrete import TabularCPD\n",
    "\n",
    "def protain_network():\n",
    "    \"\"\"L: ligand\n",
    "    G: gene activation\n",
    "    M: mutation\n",
    "    F: correct folding\n",
    "    H: hydrolysis\n",
    "    S: stability\n",
    "    There are therefore several probability tables. Below are their defi nitions, where we assign boolean values to each of thevariables, and the tables are listed below the defi nitions\n",
    "    p(L = 1): probability of a ligand being present\n",
    "    p(M = 1): probability of a mutation occurring\n",
    "    p(H = 1): probability of a protein being hydrolyzed\n",
    "    p(G = 1|L): probability of a gene being activated given the presence of a ligand\n",
    "    p(F = 1|M, G): probability of the protein correctly folding given the presence of a mutation and the gene being activated\n",
    "    p(S = 1|F, H): probability of the protein being stable given the protein correctly folding and being hydrolyzed\"\"\"\n",
    "    # Defining the network structure\n",
    "    raise NotImplementedError(\"I raised this error because I did not implement the function, you should del this line and write your code here\")\n",
    "    return model\n",
    "\n",
    "    \n"
   ]
  },
  {
   "cell_type": "markdown",
   "id": "224254ab",
   "metadata": {},
   "source": [
    "### 1b: Setting the Probabilities\n",
    "\n",
    "Now, set the conditional probabilities for the necessary variables on the network you just built."
   ]
  },
  {
   "cell_type": "code",
   "execution_count": 2,
   "id": "88d7aaf2",
   "metadata": {},
   "outputs": [],
   "source": [
    "from pgmpy.factors.discrete import TabularCPD\n",
    "\n",
    "def protain_network_cpd(model):\n",
    "    # Defining the CPDs:\n",
    "    raise NotImplementedError(\"I raised this error because I did not implement the function, you should del this line and write your code here\")\n",
    "\n",
    "    return model\n",
    "\n"
   ]
  },
  {
   "cell_type": "code",
   "execution_count": null,
   "id": "d0924ec4",
   "metadata": {},
   "outputs": [],
   "source": []
  },
  {
   "cell_type": "markdown",
   "id": "80b8bd90",
   "metadata": {},
   "source": [
    "### 1c: Probability Calculations - Perform Inference\n",
    "\n",
    "Now, perform inference on the network to calculate the following probabilities:\n",
    "\n"
   ]
  },
  {
   "cell_type": "code",
   "execution_count": 4,
   "id": "0d47fa07",
   "metadata": {},
   "outputs": [],
   "source": [
    "from pgmpy.inference import VariableElimination\n",
    "\n",
    "network = protain_network()\n",
    "network = protain_network_cpd(network)"
   ]
  },
  {
   "cell_type": "markdown",
   "id": "f4cfa782",
   "metadata": {},
   "source": [
    "#### 1c-1 In a scenario where we know a mutation did not occur , and a ligand was present, what is the probability that a gene was activated? Round your answers to 3 decimal places"
   ]
  },
  {
   "cell_type": "code",
   "execution_count": null,
   "id": "454ec85e",
   "metadata": {},
   "outputs": [],
   "source": [
    "inference = VariableElimination(network)\n",
    "\n",
    "gene_prob = inference.query(variables=['G'], evidence={'L': 1, 'M': 0}, joint=False)\n",
    "print(gene_prob['G'].values[1])"
   ]
  },
  {
   "cell_type": "markdown",
   "id": "f6651411",
   "metadata": {},
   "source": [
    "#### 1c-2 Let’s say that we know that there was a ligand present, the gene was activated, a mutation did not occur, the protein folded correctly, and a hydrolysis occurred. Given those, what is the probability that the protein was stable? Round your answer to 3 decimal places. (Note: This question vaguely hints at a part of a solution in future questions.)"
   ]
  },
  {
   "cell_type": "code",
   "execution_count": 11,
   "id": "96a7ae5c",
   "metadata": {},
   "outputs": [],
   "source": [
    "# write your code here"
   ]
  },
  {
   "cell_type": "markdown",
   "id": "41f195f3",
   "metadata": {},
   "source": [
    "#### 1c-3 In a scenario where we know a mutation did not occur, a ligand was present, and the protein was folded incorrectly, what is the probability that a gene was activated? Round your answer to 6 decimal places."
   ]
  },
  {
   "cell_type": "code",
   "execution_count": null,
   "id": "256d0cff",
   "metadata": {},
   "outputs": [],
   "source": [
    "# write your code here"
   ]
  }
 ],
 "metadata": {
  "kernelspec": {
   "display_name": "Python 3",
   "language": "python",
   "name": "python3"
  },
  "language_info": {
   "codemirror_mode": {
    "name": "ipython",
    "version": 3
   },
   "file_extension": ".py",
   "mimetype": "text/x-python",
   "name": "python",
   "nbconvert_exporter": "python",
   "pygments_lexer": "ipython3",
   "version": "3.9.19"
  }
 },
 "nbformat": 4,
 "nbformat_minor": 5
}
